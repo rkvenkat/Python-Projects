{
 "cells": [
  {
   "cell_type": "code",
   "execution_count": 8,
   "id": "e3dc827c",
   "metadata": {},
   "outputs": [],
   "source": [
    "#imports here\n",
    "from selenium import webdriver\n",
    "from selenium.webdriver.common.keys import Keys\n",
    "from selenium.webdriver.support import expected_conditions as EC\n",
    "from selenium.webdriver.common.by import By\n",
    "from selenium.webdriver.support.wait import WebDriverWait\n",
    "import time"
   ]
  },
  {
   "cell_type": "code",
   "execution_count": 17,
   "id": "cf36970f",
   "metadata": {},
   "outputs": [],
   "source": [
    "!cd ~"
   ]
  },
  {
   "cell_type": "code",
   "execution_count": 18,
   "id": "8e538777",
   "metadata": {},
   "outputs": [
    {
     "name": "stdout",
     "output_type": "stream",
     "text": [
      "/home/venkat/Downloads/PythonPractice/GPA Calculator\r\n"
     ]
    }
   ],
   "source": [
    "!pwd"
   ]
  },
  {
   "cell_type": "code",
   "execution_count": 24,
   "id": "d2f991b3",
   "metadata": {},
   "outputs": [],
   "source": [
    "driver = webdriver.Chrome('/home/venkat/Downloads/chromedriver_linux64/chromedriver')\n",
    "driver.get('https://www.scholaro.com/gpa-calculator/')"
   ]
  },
  {
   "cell_type": "code",
   "execution_count": 25,
   "id": "95603763",
   "metadata": {},
   "outputs": [],
   "source": [
    "rows = WebDriverWait(driver, 10).until(EC.element_to_be_clickable((By.CSS_SELECTOR, \"input[name='ctl00$ctl00$ContentPlaceHolder1$ContentPlaceHolder1$CountText']\")))"
   ]
  },
  {
   "cell_type": "code",
   "execution_count": 28,
   "id": "79ffc542",
   "metadata": {},
   "outputs": [],
   "source": [
    "rows.clear()\n",
    "rows.send_keys(\"5\")"
   ]
  },
  {
   "cell_type": "code",
   "execution_count": 29,
   "id": "cdfd55c5",
   "metadata": {},
   "outputs": [],
   "source": [
    "button = WebDriverWait(driver, 2).until(EC.element_to_be_clickable((By.CSS_SELECTOR, \"button[name='ctl00$ctl00$ContentPlaceHolder1$ContentPlaceHolder1$AddButton']\"))).click()"
   ]
  },
  {
   "cell_type": "code",
   "execution_count": 30,
   "id": "b838b881",
   "metadata": {},
   "outputs": [
    {
     "ename": "AttributeError",
     "evalue": "'WebDriver' object has no attribute 'findElement'",
     "output_type": "error",
     "traceback": [
      "\u001b[0;31m---------------------------------------------------------------------------\u001b[0m",
      "\u001b[0;31mAttributeError\u001b[0m                            Traceback (most recent call last)",
      "\u001b[0;32m/tmp/ipykernel_26100/552582334.py\u001b[0m in \u001b[0;36m<module>\u001b[0;34m\u001b[0m\n\u001b[0;32m----> 1\u001b[0;31m \u001b[0mdriver\u001b[0m\u001b[0;34m.\u001b[0m\u001b[0mfindElement\u001b[0m\u001b[0;34m(\u001b[0m\u001b[0mBy\u001b[0m\u001b[0;34m.\u001b[0m\u001b[0mxpath\u001b[0m\u001b[0;34m(\u001b[0m\u001b[0;34m\"/html/body/form/div[5]/div[3]/div[5]/div[1]/div[5]/table/tbody/tr[3]/td[2]/input\"\u001b[0m\u001b[0;34m)\u001b[0m\u001b[0;34m)\u001b[0m\u001b[0;34m.\u001b[0m\u001b[0msendKeys\u001b[0m\u001b[0;34m(\u001b[0m\u001b[0;34m\"Alice\"\u001b[0m\u001b[0;34m)\u001b[0m\u001b[0;34m\u001b[0m\u001b[0;34m\u001b[0m\u001b[0m\n\u001b[0m",
      "\u001b[0;31mAttributeError\u001b[0m: 'WebDriver' object has no attribute 'findElement'"
     ]
    }
   ],
   "source": [
    "driver.findElement(By.xpath(\"/html/body/form/div[5]/div[3]/div[5]/div[1]/div[5]/table/tbody/tr[3]/td[2]/input\")).sendKeys(\"Alice\")"
   ]
  },
  {
   "cell_type": "code",
   "execution_count": null,
   "id": "50f9de70",
   "metadata": {},
   "outputs": [],
   "source": []
  }
 ],
 "metadata": {
  "kernelspec": {
   "display_name": "Python 3 (ipykernel)",
   "language": "python",
   "name": "python3"
  },
  "language_info": {
   "codemirror_mode": {
    "name": "ipython",
    "version": 3
   },
   "file_extension": ".py",
   "mimetype": "text/x-python",
   "name": "python",
   "nbconvert_exporter": "python",
   "pygments_lexer": "ipython3",
   "version": "3.9.6"
  }
 },
 "nbformat": 4,
 "nbformat_minor": 5
}
