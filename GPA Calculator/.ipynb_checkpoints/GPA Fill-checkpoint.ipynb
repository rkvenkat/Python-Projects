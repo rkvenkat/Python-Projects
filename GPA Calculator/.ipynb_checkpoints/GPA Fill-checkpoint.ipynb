{
 "cells": [
  {
   "cell_type": "code",
   "execution_count": 158,
   "id": "e3dc827c",
   "metadata": {},
   "outputs": [],
   "source": [
    "#imports here\n",
    "from selenium import webdriver\n",
    "from selenium.webdriver.common.keys import Keys\n",
    "from selenium.webdriver.support import expected_conditions as EC\n",
    "from selenium.webdriver.common.by import By\n",
    "from selenium.webdriver.support.wait import WebDriverWait\n",
    "import time"
   ]
  },
  {
   "cell_type": "code",
   "execution_count": 274,
   "id": "d2f991b3",
   "metadata": {},
   "outputs": [],
   "source": [
    "driver = webdriver.Chrome('/home/venkat/Downloads/chromedriver_linux64/chromedriver')\n",
    "driver.get('https://www.scholaro.com/gpa-calculator/')"
   ]
  },
  {
   "cell_type": "code",
   "execution_count": 275,
   "id": "189ce3a8",
   "metadata": {},
   "outputs": [],
   "source": [
    "country = driver.find_element_by_css_selector('input[value=\"Type or select country name\"]')"
   ]
  },
  {
   "cell_type": "code",
   "execution_count": 276,
   "id": "6f96bf10",
   "metadata": {},
   "outputs": [],
   "source": [
    "country.clear()\n",
    "country.click()\n",
    "country.send_keys(\"India\")\n",
    "country.send_keys(Keys.RETURN)"
   ]
  },
  {
   "cell_type": "code",
   "execution_count": 279,
   "id": "43ee7426",
   "metadata": {},
   "outputs": [],
   "source": [
    "grading_scale = driver.find_element_by_css_selector('input[name=\"ctl00$ctl00$ContentPlaceHolder1$ContentPlaceHolder1$GradingScalesRadComboBox\"]')"
   ]
  },
  {
   "cell_type": "code",
   "execution_count": 280,
   "id": "c7943aa2",
   "metadata": {},
   "outputs": [],
   "source": [
    "grading_scale.clear()\n",
    "grading_scale.click()\n",
    "grading_scale.send_keys(\"UGC 10-point Grading Scale\")\n",
    "grading_scale.send_keys(Keys.RETURN)"
   ]
  },
  {
   "cell_type": "markdown",
   "id": "ddc68a2c",
   "metadata": {},
   "source": [
    "### Reading my Grade Card"
   ]
  },
  {
   "cell_type": "code",
   "execution_count": 197,
   "id": "d3e993c9",
   "metadata": {},
   "outputs": [],
   "source": [
    "import pandas as pd"
   ]
  },
  {
   "cell_type": "code",
   "execution_count": 198,
   "id": "7c3c40cc",
   "metadata": {},
   "outputs": [],
   "source": [
    "my_grades = pd.read_csv('/home/venkat/Downloads/Semester Grade Card/Grades.csv')"
   ]
  },
  {
   "cell_type": "code",
   "execution_count": 199,
   "id": "cd4def72",
   "metadata": {},
   "outputs": [
    {
     "data": {
      "text/html": [
       "<div>\n",
       "<style scoped>\n",
       "    .dataframe tbody tr th:only-of-type {\n",
       "        vertical-align: middle;\n",
       "    }\n",
       "\n",
       "    .dataframe tbody tr th {\n",
       "        vertical-align: top;\n",
       "    }\n",
       "\n",
       "    .dataframe thead th {\n",
       "        text-align: right;\n",
       "    }\n",
       "</style>\n",
       "<table border=\"1\" class=\"dataframe\">\n",
       "  <thead>\n",
       "    <tr style=\"text-align: right;\">\n",
       "      <th></th>\n",
       "      <th>course</th>\n",
       "      <th>credit</th>\n",
       "      <th>grade</th>\n",
       "      <th>sem</th>\n",
       "      <th>hon</th>\n",
       "    </tr>\n",
       "  </thead>\n",
       "  <tbody>\n",
       "    <tr>\n",
       "      <th>0</th>\n",
       "      <td>Basics of Civil Engineering</td>\n",
       "      <td>2</td>\n",
       "      <td>A</td>\n",
       "      <td>1</td>\n",
       "      <td>NaN</td>\n",
       "    </tr>\n",
       "    <tr>\n",
       "      <th>1</th>\n",
       "      <td>Chemistry I</td>\n",
       "      <td>3</td>\n",
       "      <td>A</td>\n",
       "      <td>1</td>\n",
       "      <td>NaN</td>\n",
       "    </tr>\n",
       "    <tr>\n",
       "      <th>2</th>\n",
       "      <td>Basics of Programming</td>\n",
       "      <td>3</td>\n",
       "      <td>A</td>\n",
       "      <td>1</td>\n",
       "      <td>NaN</td>\n",
       "    </tr>\n",
       "    <tr>\n",
       "      <th>3</th>\n",
       "      <td>Basics of Electrical and Electronics Engineering</td>\n",
       "      <td>2</td>\n",
       "      <td>S</td>\n",
       "      <td>1</td>\n",
       "      <td>NaN</td>\n",
       "    </tr>\n",
       "    <tr>\n",
       "      <th>4</th>\n",
       "      <td>English for Communication</td>\n",
       "      <td>3</td>\n",
       "      <td>A</td>\n",
       "      <td>1</td>\n",
       "      <td>NaN</td>\n",
       "    </tr>\n",
       "  </tbody>\n",
       "</table>\n",
       "</div>"
      ],
      "text/plain": [
       "                                             course  credit grade  sem  hon\n",
       "0                       Basics of Civil Engineering       2     A    1  NaN\n",
       "1                                       Chemistry I       3     A    1  NaN\n",
       "2                             Basics of Programming       3     A    1  NaN\n",
       "3  Basics of Electrical and Electronics Engineering       2     S    1  NaN\n",
       "4                         English for Communication       3     A    1  NaN"
      ]
     },
     "execution_count": 199,
     "metadata": {},
     "output_type": "execute_result"
    }
   ],
   "source": [
    "my_grades.head()"
   ]
  },
  {
   "cell_type": "code",
   "execution_count": 200,
   "id": "159709b4",
   "metadata": {},
   "outputs": [],
   "source": [
    "gpa_map_nit = pd.DataFrame({'grade':['S','A','B','C','D','E','F'],'score':[10,9,8,7,6,5,0]})"
   ]
  },
  {
   "cell_type": "code",
   "execution_count": 201,
   "id": "966fd513",
   "metadata": {},
   "outputs": [
    {
     "data": {
      "text/html": [
       "<div>\n",
       "<style scoped>\n",
       "    .dataframe tbody tr th:only-of-type {\n",
       "        vertical-align: middle;\n",
       "    }\n",
       "\n",
       "    .dataframe tbody tr th {\n",
       "        vertical-align: top;\n",
       "    }\n",
       "\n",
       "    .dataframe thead th {\n",
       "        text-align: right;\n",
       "    }\n",
       "</style>\n",
       "<table border=\"1\" class=\"dataframe\">\n",
       "  <thead>\n",
       "    <tr style=\"text-align: right;\">\n",
       "      <th></th>\n",
       "      <th>grade</th>\n",
       "      <th>score</th>\n",
       "    </tr>\n",
       "  </thead>\n",
       "  <tbody>\n",
       "    <tr>\n",
       "      <th>0</th>\n",
       "      <td>S</td>\n",
       "      <td>10</td>\n",
       "    </tr>\n",
       "    <tr>\n",
       "      <th>1</th>\n",
       "      <td>A</td>\n",
       "      <td>9</td>\n",
       "    </tr>\n",
       "    <tr>\n",
       "      <th>2</th>\n",
       "      <td>B</td>\n",
       "      <td>8</td>\n",
       "    </tr>\n",
       "    <tr>\n",
       "      <th>3</th>\n",
       "      <td>C</td>\n",
       "      <td>7</td>\n",
       "    </tr>\n",
       "    <tr>\n",
       "      <th>4</th>\n",
       "      <td>D</td>\n",
       "      <td>6</td>\n",
       "    </tr>\n",
       "    <tr>\n",
       "      <th>5</th>\n",
       "      <td>E</td>\n",
       "      <td>5</td>\n",
       "    </tr>\n",
       "    <tr>\n",
       "      <th>6</th>\n",
       "      <td>F</td>\n",
       "      <td>0</td>\n",
       "    </tr>\n",
       "  </tbody>\n",
       "</table>\n",
       "</div>"
      ],
      "text/plain": [
       "  grade  score\n",
       "0     S     10\n",
       "1     A      9\n",
       "2     B      8\n",
       "3     C      7\n",
       "4     D      6\n",
       "5     E      5\n",
       "6     F      0"
      ]
     },
     "execution_count": 201,
     "metadata": {},
     "output_type": "execute_result"
    }
   ],
   "source": [
    "gpa_map_nit"
   ]
  },
  {
   "cell_type": "code",
   "execution_count": 202,
   "id": "ffc1e40c",
   "metadata": {},
   "outputs": [
    {
     "data": {
      "text/plain": [
       "course    object\n",
       "credit     int64\n",
       "grade     object\n",
       "sem        int64\n",
       "hon       object\n",
       "dtype: object"
      ]
     },
     "execution_count": 202,
     "metadata": {},
     "output_type": "execute_result"
    }
   ],
   "source": [
    "my_grades.dtypes"
   ]
  },
  {
   "cell_type": "code",
   "execution_count": 203,
   "id": "c2b4f17a",
   "metadata": {},
   "outputs": [],
   "source": [
    "my_grades = (my_grades\n",
    "[my_grades[\"hon\"] != 'HON']\n",
    " .merge(gpa_map_nit, left_on='grade', right_on='grade')\n",
    ")\n"
   ]
  },
  {
   "cell_type": "code",
   "execution_count": 204,
   "id": "db9ec799",
   "metadata": {},
   "outputs": [],
   "source": [
    "my_grades = (my_grades\n",
    ".assign(tot = my_grades['credit'] * my_grades['score'],\n",
    "        credit_tot = my_grades['credit'] * 10)\n",
    ")        "
   ]
  },
  {
   "cell_type": "code",
   "execution_count": 205,
   "id": "927105d7",
   "metadata": {},
   "outputs": [
    {
     "data": {
      "text/plain": [
       "Index(['course', 'credit', 'grade', 'sem', 'hon', 'score', 'tot',\n",
       "       'credit_tot'],\n",
       "      dtype='object')"
      ]
     },
     "execution_count": 205,
     "metadata": {},
     "output_type": "execute_result"
    }
   ],
   "source": [
    "my_grades.columns"
   ]
  },
  {
   "cell_type": "code",
   "execution_count": 206,
   "id": "09aa7424",
   "metadata": {},
   "outputs": [
    {
     "data": {
      "text/html": [
       "<div>\n",
       "<style scoped>\n",
       "    .dataframe tbody tr th:only-of-type {\n",
       "        vertical-align: middle;\n",
       "    }\n",
       "\n",
       "    .dataframe tbody tr th {\n",
       "        vertical-align: top;\n",
       "    }\n",
       "\n",
       "    .dataframe thead th {\n",
       "        text-align: right;\n",
       "    }\n",
       "</style>\n",
       "<table border=\"1\" class=\"dataframe\">\n",
       "  <thead>\n",
       "    <tr style=\"text-align: right;\">\n",
       "      <th></th>\n",
       "      <th>credit</th>\n",
       "      <th>score</th>\n",
       "      <th>tot</th>\n",
       "      <th>credit_tot</th>\n",
       "      <th>t</th>\n",
       "    </tr>\n",
       "    <tr>\n",
       "      <th>sem</th>\n",
       "      <th></th>\n",
       "      <th></th>\n",
       "      <th></th>\n",
       "      <th></th>\n",
       "      <th></th>\n",
       "    </tr>\n",
       "  </thead>\n",
       "  <tbody>\n",
       "    <tr>\n",
       "      <th>1</th>\n",
       "      <td>22</td>\n",
       "      <td>72</td>\n",
       "      <td>196</td>\n",
       "      <td>220</td>\n",
       "      <td>0.9</td>\n",
       "    </tr>\n",
       "    <tr>\n",
       "      <th>2</th>\n",
       "      <td>26</td>\n",
       "      <td>76</td>\n",
       "      <td>245</td>\n",
       "      <td>260</td>\n",
       "      <td>0.9</td>\n",
       "    </tr>\n",
       "    <tr>\n",
       "      <th>3</th>\n",
       "      <td>22</td>\n",
       "      <td>73</td>\n",
       "      <td>200</td>\n",
       "      <td>220</td>\n",
       "      <td>0.9</td>\n",
       "    </tr>\n",
       "    <tr>\n",
       "      <th>4</th>\n",
       "      <td>24</td>\n",
       "      <td>74</td>\n",
       "      <td>220</td>\n",
       "      <td>240</td>\n",
       "      <td>0.9</td>\n",
       "    </tr>\n",
       "    <tr>\n",
       "      <th>5</th>\n",
       "      <td>22</td>\n",
       "      <td>66</td>\n",
       "      <td>206</td>\n",
       "      <td>220</td>\n",
       "      <td>0.9</td>\n",
       "    </tr>\n",
       "    <tr>\n",
       "      <th>6</th>\n",
       "      <td>21</td>\n",
       "      <td>68</td>\n",
       "      <td>204</td>\n",
       "      <td>210</td>\n",
       "      <td>0.9</td>\n",
       "    </tr>\n",
       "    <tr>\n",
       "      <th>7</th>\n",
       "      <td>22</td>\n",
       "      <td>68</td>\n",
       "      <td>191</td>\n",
       "      <td>220</td>\n",
       "      <td>0.9</td>\n",
       "    </tr>\n",
       "    <tr>\n",
       "      <th>8</th>\n",
       "      <td>19</td>\n",
       "      <td>47</td>\n",
       "      <td>180</td>\n",
       "      <td>190</td>\n",
       "      <td>0.9</td>\n",
       "    </tr>\n",
       "  </tbody>\n",
       "</table>\n",
       "</div>"
      ],
      "text/plain": [
       "     credit  score  tot  credit_tot    t\n",
       "sem                                     \n",
       "1        22     72  196         220  0.9\n",
       "2        26     76  245         260  0.9\n",
       "3        22     73  200         220  0.9\n",
       "4        24     74  220         240  0.9\n",
       "5        22     66  206         220  0.9\n",
       "6        21     68  204         210  0.9\n",
       "7        22     68  191         220  0.9\n",
       "8        19     47  180         190  0.9"
      ]
     },
     "execution_count": 206,
     "metadata": {},
     "output_type": "execute_result"
    }
   ],
   "source": [
    "(my_grades\n",
    ".groupby('sem').sum()\n",
    ".assign(t = (my_grades['tot'] / my_grades['credit_tot']).astype('float') )\n",
    ")"
   ]
  },
  {
   "cell_type": "code",
   "execution_count": 207,
   "id": "193cb3a7",
   "metadata": {},
   "outputs": [],
   "source": [
    "a = my_grades.groupby('sem').sum()"
   ]
  },
  {
   "cell_type": "code",
   "execution_count": 208,
   "id": "8dcfc259",
   "metadata": {},
   "outputs": [
    {
     "data": {
      "text/html": [
       "<div>\n",
       "<style scoped>\n",
       "    .dataframe tbody tr th:only-of-type {\n",
       "        vertical-align: middle;\n",
       "    }\n",
       "\n",
       "    .dataframe tbody tr th {\n",
       "        vertical-align: top;\n",
       "    }\n",
       "\n",
       "    .dataframe thead th {\n",
       "        text-align: right;\n",
       "    }\n",
       "</style>\n",
       "<table border=\"1\" class=\"dataframe\">\n",
       "  <thead>\n",
       "    <tr style=\"text-align: right;\">\n",
       "      <th></th>\n",
       "      <th>credit</th>\n",
       "      <th>score</th>\n",
       "      <th>tot</th>\n",
       "      <th>credit_tot</th>\n",
       "    </tr>\n",
       "    <tr>\n",
       "      <th>sem</th>\n",
       "      <th></th>\n",
       "      <th></th>\n",
       "      <th></th>\n",
       "      <th></th>\n",
       "    </tr>\n",
       "  </thead>\n",
       "  <tbody>\n",
       "    <tr>\n",
       "      <th>1</th>\n",
       "      <td>22</td>\n",
       "      <td>72</td>\n",
       "      <td>196</td>\n",
       "      <td>220</td>\n",
       "    </tr>\n",
       "    <tr>\n",
       "      <th>2</th>\n",
       "      <td>26</td>\n",
       "      <td>76</td>\n",
       "      <td>245</td>\n",
       "      <td>260</td>\n",
       "    </tr>\n",
       "    <tr>\n",
       "      <th>3</th>\n",
       "      <td>22</td>\n",
       "      <td>73</td>\n",
       "      <td>200</td>\n",
       "      <td>220</td>\n",
       "    </tr>\n",
       "    <tr>\n",
       "      <th>4</th>\n",
       "      <td>24</td>\n",
       "      <td>74</td>\n",
       "      <td>220</td>\n",
       "      <td>240</td>\n",
       "    </tr>\n",
       "    <tr>\n",
       "      <th>5</th>\n",
       "      <td>22</td>\n",
       "      <td>66</td>\n",
       "      <td>206</td>\n",
       "      <td>220</td>\n",
       "    </tr>\n",
       "    <tr>\n",
       "      <th>6</th>\n",
       "      <td>21</td>\n",
       "      <td>68</td>\n",
       "      <td>204</td>\n",
       "      <td>210</td>\n",
       "    </tr>\n",
       "    <tr>\n",
       "      <th>7</th>\n",
       "      <td>22</td>\n",
       "      <td>68</td>\n",
       "      <td>191</td>\n",
       "      <td>220</td>\n",
       "    </tr>\n",
       "    <tr>\n",
       "      <th>8</th>\n",
       "      <td>19</td>\n",
       "      <td>47</td>\n",
       "      <td>180</td>\n",
       "      <td>190</td>\n",
       "    </tr>\n",
       "  </tbody>\n",
       "</table>\n",
       "</div>"
      ],
      "text/plain": [
       "     credit  score  tot  credit_tot\n",
       "sem                                \n",
       "1        22     72  196         220\n",
       "2        26     76  245         260\n",
       "3        22     73  200         220\n",
       "4        24     74  220         240\n",
       "5        22     66  206         220\n",
       "6        21     68  204         210\n",
       "7        22     68  191         220\n",
       "8        19     47  180         190"
      ]
     },
     "execution_count": 208,
     "metadata": {},
     "output_type": "execute_result"
    }
   ],
   "source": [
    "a"
   ]
  },
  {
   "cell_type": "code",
   "execution_count": 209,
   "id": "16e28a70",
   "metadata": {},
   "outputs": [
    {
     "data": {
      "text/plain": [
       "sem\n",
       "1    8.91\n",
       "2    9.42\n",
       "3    9.09\n",
       "4    9.17\n",
       "5    9.36\n",
       "6    9.71\n",
       "7    8.68\n",
       "8    9.47\n",
       "dtype: float64"
      ]
     },
     "execution_count": 209,
     "metadata": {},
     "output_type": "execute_result"
    }
   ],
   "source": [
    "round(a['tot'] / a['credit_tot'],3) * 10"
   ]
  },
  {
   "cell_type": "code",
   "execution_count": 210,
   "id": "84bb0cb0",
   "metadata": {},
   "outputs": [],
   "source": [
    "nrows = my_grades.shape[0]"
   ]
  },
  {
   "cell_type": "code",
   "execution_count": 211,
   "id": "34454c65",
   "metadata": {},
   "outputs": [],
   "source": [
    "gpa_map_scholaro = pd.DataFrame({'grade':['S','A','B','C','D','E','F']\n",
    "                                 ,'scholaro_grade':[\"O\",\"A+\",\"A\",\"B+\",\"B\",\"C\",\"F\"]})"
   ]
  },
  {
   "cell_type": "code",
   "execution_count": 212,
   "id": "a30b1bae",
   "metadata": {},
   "outputs": [],
   "source": [
    "my_grades = my_grades.merge(gpa_map_scholaro, left_on='grade', right_on='grade')"
   ]
  },
  {
   "cell_type": "code",
   "execution_count": 214,
   "id": "7c32bb4b",
   "metadata": {},
   "outputs": [],
   "source": [
    "my_grades['course'] = my_grades['course'].str.upper()"
   ]
  },
  {
   "cell_type": "code",
   "execution_count": 192,
   "id": "a3ddad24",
   "metadata": {},
   "outputs": [],
   "source": [
    "nrows_to_add = str(nrows - 5)"
   ]
  },
  {
   "cell_type": "code",
   "execution_count": 281,
   "id": "2532a79c",
   "metadata": {},
   "outputs": [],
   "source": [
    "rows = WebDriverWait(driver, 10).until(EC.element_to_be_clickable((By.CSS_SELECTOR, \"input[name='ctl00$ctl00$ContentPlaceHolder1$ContentPlaceHolder1$CountText']\")))"
   ]
  },
  {
   "cell_type": "code",
   "execution_count": 282,
   "id": "280befc3",
   "metadata": {},
   "outputs": [],
   "source": [
    "rows.clear()\n",
    "rows.send_keys(nrows_to_add)\n",
    "button = WebDriverWait(driver, 2).until(EC.element_to_be_clickable((By.CSS_SELECTOR, \"button[name='ctl00$ctl00$ContentPlaceHolder1$ContentPlaceHolder1$AddButton']\"))).click()"
   ]
  },
  {
   "cell_type": "code",
   "execution_count": 283,
   "id": "074556ff",
   "metadata": {},
   "outputs": [
    {
     "name": "stdout",
     "output_type": "stream",
     "text": [
      "BASICS OF CIVIL ENGINEERING\n",
      "CHEMISTRY I\n",
      "BASICS OF PROGRAMMING\n",
      "ENGLISH FOR COMMUNICATION\n",
      "PHYSICS I\n",
      "BRANCH SPECIFIC COURSE\n",
      "PROFESSIONAL COMMUNICATION\n",
      "PHYSICS II\n",
      "MATHEMATICS FOR PRODUCTION ENGINEERS\n",
      "CASTING AND WELDING TECHNOLOGY\n",
      "MACHINING TECHNOLOGY\n",
      "METALLURGY AND MATERIALS ENGINEERING\n",
      "MANUFACTURING PROCESSES LABORATORY I\n",
      "METROLOGY (THEORY AND LABORATORY)\n",
      "WELDABILITY AND FORMABILITY TESTING LABORATORY\n",
      "PROFESSIONAL ETHICS\n",
      "COMPUTER INTEGRATED MANUFACTURING (THEORY AND LABORATORY)\n",
      "MECHATRONICS AND INDUSTRIAL AUTOMATION (THEORY AND LABORATORY)\n",
      "WORK DESIGN AND FACILITIES PLANNING\n",
      "MANUFACTURING SYSTEM SIMULATION (THEORY AND LABORATORY)\n",
      "SUPPLY  CHAIN MANAGEMENT \n",
      "INDUSTRIAL ECONOMICS AND FOREIGN TRADE\n",
      "TOOLING FOR MANUFACTURING\n",
      "PROJECT MANAGEMENT\n",
      "BASICS OF ELECTRICAL AND ELECTRONICS ENGINEERING\n",
      "CHEMISTRY II\n",
      "ENERGY AND ENVIRONMENTAL ENGINEERING\n",
      "MATHEMATICS II\n",
      "ENGINEERING GRAPHICS\n",
      "ENGINEERING PRACTICE\n",
      "THERMAL ENGINEERING\n",
      "MECHANICS OF SOLIDS & FLUIDS AND THERMAL ENGINEERING LABORATORY\n",
      "FORMING TECHNOLOGY\n",
      "ELECTRICAL AND CONTROL SYSTEMS (THEORY AND LABORATORY)\n",
      "MANUFACTURING OF COMPOSITE MATERIALS\n",
      "MANUFACTURING PROCESSES LABORATORY II\n",
      "QUALITY, RELIABILITY AND SAFETY ENGINEERING\n",
      "PRODUCT DEVELOPMENT STRATEGIES\n",
      "INDUSTRIAL ROBOTICS\n",
      "MACHINE DRAWING PRACTICE\n",
      "DESIGN AND ANALYSIS OF EXPERIMENTS\n",
      "COMPUTER AIDED DESIGN AND ENGINEERING (THEORY AND LABORATORY)\n",
      "OPERATIONS MANAGEMENT\n",
      "OPERATIONS RESEARCH\n",
      "PRODUCTION DRAWING AND COST ESTIMATION\n",
      "INTERNSHIP / INDUSTRIAL TRAINING / ACADEMIC  ATTACHMENT\n",
      "ANALYSIS OF PRODUCTION SYSTEMS AND IE LABORATORY\n",
      "SUSTAINABLE MANUFACTURING (THEORY AND LAB)\n",
      "PROJECT WORK\n",
      "INTEGRATED MATERIALS MANAGEMENT\n",
      "MATHEMATICS I\n",
      "ENGINEERING MECHANICS\n",
      "MECHANICS OF SOLIDS AND FLUIDS\n",
      "PROBABILITY AND STATISTICS\n",
      "KINEMATICS AND DYNAMICS OF MACHINES\n",
      "DESIGN OF MACHINE ELEMENTS\n",
      "COMPREHENSIVE VIVA\n",
      "APPLIED GAME THEORY\n",
      "INDUSTRIAL LECTURES\n"
     ]
    }
   ],
   "source": [
    "for i in range(nrows):\n",
    "    \n",
    "    print(my_grades['course'][i])\n",
    "    \n",
    "    course = driver.find_element_by_xpath(f\"/html/body/form/div[6]/div[3]/div[5]/div[1]/div[5]/table/tbody/tr[{i+2}]/td[2]/input\")\n",
    "    credit = driver.find_element_by_xpath(f\"/html/body/form/div[6]/div[3]/div[5]/div[1]/div[5]/table/tbody/tr[{i+2}]/td[3]/input\")\n",
    "    grade  = driver.find_element_by_xpath(f\"/html/body/form/div[6]/div[3]/div[5]/div[1]/div[5]/table/tbody/tr[{i+2}]/td[4]/input\")\n",
    "\n",
    "    \n",
    "    course.clear()\n",
    "    credit.clear()\n",
    "    grade.clear()\n",
    "    \n",
    "    course.send_keys(my_grades['course'][i])\n",
    "    credit.send_keys(str(my_grades['credit'][i]))\n",
    "    grade.send_keys(my_grades['scholaro_grade'][i])"
   ]
  },
  {
   "cell_type": "code",
   "execution_count": 272,
   "id": "35b33c0b",
   "metadata": {},
   "outputs": [],
   "source": [
    "save = driver.find_element_by_css_selector('button[value=\"Save this GPA report\"]')"
   ]
  },
  {
   "cell_type": "code",
   "execution_count": 273,
   "id": "3bd66035",
   "metadata": {},
   "outputs": [],
   "source": [
    "save.click()"
   ]
  },
  {
   "cell_type": "code",
   "execution_count": null,
   "id": "54502986",
   "metadata": {},
   "outputs": [],
   "source": []
  }
 ],
 "metadata": {
  "kernelspec": {
   "display_name": "Python 3 (ipykernel)",
   "language": "python",
   "name": "python3"
  },
  "language_info": {
   "codemirror_mode": {
    "name": "ipython",
    "version": 3
   },
   "file_extension": ".py",
   "mimetype": "text/x-python",
   "name": "python",
   "nbconvert_exporter": "python",
   "pygments_lexer": "ipython3",
   "version": "3.9.6"
  }
 },
 "nbformat": 4,
 "nbformat_minor": 5
}
